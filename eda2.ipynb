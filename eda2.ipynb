{
 "cells": [
  {
   "cell_type": "markdown",
   "id": "561e9534",
   "metadata": {},
   "source": [
    "# Задание\n",
    "\n",
    "Используемый набор данных — данные магазина. Он управляет более чем 3000 аптек в 7 европейских странах. Задача — предсказать их ежедневные продажи на срок до шести недель вперед:\n",
    "1. EDA\n",
    "2. Анализ временных рядов \n",
    "3. Прогнозирование моделирование\n",
    "4. Результаты\n",
    "5. Презентация"
   ]
  },
  {
   "cell_type": "markdown",
   "id": "2edfbf0c",
   "metadata": {},
   "source": [
    "# Загрузка и описание"
   ]
  },
  {
   "cell_type": "code",
   "execution_count": 40,
   "id": "ee4fb430",
   "metadata": {},
   "outputs": [
    {
     "name": "stderr",
     "output_type": "stream",
     "text": [
      "/tmp/ipykernel_123177/4163587292.py:5: DtypeWarning: Columns (7) have mixed types. Specify dtype option on import or set low_memory=False.\n",
      "  train = pd.read_csv('train.csv')\n"
     ]
    }
   ],
   "source": [
    "import numpy as np\n",
    "import pandas as pd\n",
    "\n",
    "store = pd.read_csv('store.csv')\n",
    "train = pd.read_csv('train.csv')\n",
    "test = pd.read_csv('test.csv')"
   ]
  },
  {
   "cell_type": "markdown",
   "id": "506586c3",
   "metadata": {},
   "source": [
    "Описание данных:\n",
    "\n",
    "Id — идентификатор, представляющий дуплет (Магазин, Дата) в тестовом наборе\n",
    "\n",
    "Магазин — уникальный идентификатор для каждого магазина\n",
    "\n",
    "Продажи — товарооборот за любой заданный день (это то, что вы прогнозируете)\n",
    "\n",
    "Клиенты — количество клиентов в заданный день\n",
    "\n",
    "Открыто — индикатор того, был ли магазин открыт: 0 = закрыт, 1 = открыт\n",
    "\n",
    "StateHoliday — указывает на государственный праздник. Обычно все магазины, за редким исключением, закрыты в государственные праздники. Обратите внимание, что все школы закрыты в государственные праздники и выходные. a = государственный праздник, b = пасхальные каникулы, c = рождество, 0 = нет\n",
    "\n",
    "SchoolHoliday — указывает, повлияло ли закрытие государственных школ на (Магазин, Дата)\n",
    "\n",
    "StoreType — различает 4 модели магазинов: a, b, c, d\n",
    "\n",
    "Assortment — описывает уровень ассортимента: a = базовый, b = дополнительный, c = расширенный\n",
    "\n",
    "CompetitionDistance — расстояние в метрах до ближайшего магазина-конкурента\n",
    "\n",
    "CompetitionOpenSince[Month/Year] — указывает примерный год и месяц открытия ближайшего магазина-конкурента\n",
    "\n",
    "Promo — указывает, проводит ли магазин промо-акцию в этот день\n",
    "\n",
    "Promo2 — Promo2 — это продолжающаяся и последовательная акция для некоторых магазинов: 0 = магазин не участвует, 1 = магазин участвует\n",
    "\n",
    "Promo2Since[Year/Week] — описывает год и календарную неделю, когда магазин начал участвовать в Promo2\n",
    "\n",
    "PromoInterval — описывает последовательные интервалы начала Promo2, называя месяцы акция начинается заново. Например, \"Фев,Май,Авг,Нояб\" означает, что каждый раунд начинается в феврале, мае, августе, ноябре любого года для этого магазина"
   ]
  },
  {
   "cell_type": "markdown",
   "id": "4b7acd70",
   "metadata": {},
   "source": [
    "# Предобработка"
   ]
  },
  {
   "cell_type": "markdown",
   "id": "f8259375",
   "metadata": {},
   "source": [
    "## train и test"
   ]
  },
  {
   "cell_type": "code",
   "execution_count": 46,
   "id": "4fd2bf1e",
   "metadata": {},
   "outputs": [
    {
     "name": "stdout",
     "output_type": "stream",
     "text": [
      "   Store  DayOfWeek       Date  Sales  Customers  Open  Promo  SchoolHoliday  \\\n",
      "0      1          5 2015-07-31   5263        555     1      1              1   \n",
      "1      2          5 2015-07-31   6064        625     1      1              1   \n",
      "2      3          5 2015-07-31   8314        821     1      1              1   \n",
      "3      4          5 2015-07-31  13995       1498     1      1              1   \n",
      "4      5          5 2015-07-31   4822        559     1      1              1   \n",
      "\n",
      "   StateHoliday__0  StateHoliday__a  StateHoliday__b  StateHoliday__c  \n",
      "0             True            False            False            False  \n",
      "1             True            False            False            False  \n",
      "2             True            False            False            False  \n",
      "3             True            False            False            False  \n",
      "4             True            False            False            False  \n",
      "<class 'pandas.core.frame.DataFrame'>\n",
      "RangeIndex: 1017209 entries, 0 to 1017208\n",
      "Data columns (total 12 columns):\n",
      " #   Column           Non-Null Count    Dtype         \n",
      "---  ------           --------------    -----         \n",
      " 0   Store            1017209 non-null  int64         \n",
      " 1   DayOfWeek        1017209 non-null  int64         \n",
      " 2   Date             1017209 non-null  datetime64[ns]\n",
      " 3   Sales            1017209 non-null  int64         \n",
      " 4   Customers        1017209 non-null  int64         \n",
      " 5   Open             1017209 non-null  int64         \n",
      " 6   Promo            1017209 non-null  int64         \n",
      " 7   SchoolHoliday    1017209 non-null  int64         \n",
      " 8   StateHoliday__0  1017209 non-null  bool          \n",
      " 9   StateHoliday__a  1017209 non-null  bool          \n",
      " 10  StateHoliday__b  1017209 non-null  bool          \n",
      " 11  StateHoliday__c  1017209 non-null  bool          \n",
      "dtypes: bool(4), datetime64[ns](1), int64(7)\n",
      "memory usage: 66.0 MB\n"
     ]
    }
   ],
   "source": [
    "print(train.head())\n",
    "train.info()"
   ]
  },
  {
   "cell_type": "code",
   "execution_count": 33,
   "id": "72c02bde",
   "metadata": {},
   "outputs": [
    {
     "name": "stdout",
     "output_type": "stream",
     "text": [
      "   Id  Store  DayOfWeek       Date  Open  Promo StateHoliday  SchoolHoliday\n",
      "0   1      1          4 2015-09-17     1      1            0              0\n",
      "1   2      3          4 2015-09-17     1      1            0              0\n",
      "2   3      7          4 2015-09-17     1      1            0              0\n",
      "3   4      8          4 2015-09-17     1      1            0              0\n",
      "4   5      9          4 2015-09-17     1      1            0              0\n",
      "<class 'pandas.core.frame.DataFrame'>\n",
      "RangeIndex: 41088 entries, 0 to 41087\n",
      "Data columns (total 8 columns):\n",
      " #   Column         Non-Null Count  Dtype         \n",
      "---  ------         --------------  -----         \n",
      " 0   Id             41088 non-null  int64         \n",
      " 1   Store          41088 non-null  int64         \n",
      " 2   DayOfWeek      41088 non-null  int64         \n",
      " 3   Date           41088 non-null  datetime64[ns]\n",
      " 4   Open           41088 non-null  int64         \n",
      " 5   Promo          41088 non-null  int64         \n",
      " 6   StateHoliday   41088 non-null  object        \n",
      " 7   SchoolHoliday  41088 non-null  int64         \n",
      "dtypes: datetime64[ns](1), int64(6), object(1)\n",
      "memory usage: 2.5+ MB\n"
     ]
    }
   ],
   "source": [
    "print(test.head())\n",
    "test.info()"
   ]
  },
  {
   "cell_type": "code",
   "execution_count": 41,
   "id": "8a46bbc4",
   "metadata": {},
   "outputs": [
    {
     "name": "stdout",
     "output_type": "stream",
     "text": [
      "['0' 'a' 'b' 'c' 0]\n",
      "['0' 'a']\n",
      "[1 0]\n",
      "[ 1. nan  0.]\n"
     ]
    }
   ],
   "source": [
    "print(train['StateHoliday'].unique())\n",
    "print(test['StateHoliday'].unique())\n",
    "print(train['Open'].unique())\n",
    "print(test['Open'].unique())"
   ]
  },
  {
   "cell_type": "code",
   "execution_count": 42,
   "id": "5593c305",
   "metadata": {},
   "outputs": [],
   "source": [
    "train['Date'] = pd.to_datetime(train['Date'])\n",
    "test['Date'] = pd.to_datetime(test['Date'])"
   ]
  },
  {
   "cell_type": "code",
   "execution_count": 43,
   "id": "8586b3cb",
   "metadata": {},
   "outputs": [],
   "source": [
    "test['Open'] = test['Open'].fillna(0).astype(int)\n",
    "test['Open'] = test['Open'].astype(int)"
   ]
  },
  {
   "cell_type": "code",
   "execution_count": 45,
   "id": "00e6de58",
   "metadata": {},
   "outputs": [],
   "source": [
    "train['StateHoliday'] = train['StateHoliday'].astype(str)\n",
    "train = pd.get_dummies(train, columns=['StateHoliday'], prefix='StateHoliday_')"
   ]
  },
  {
   "cell_type": "markdown",
   "id": "04455002",
   "metadata": {},
   "source": [
    "# 1. EDA"
   ]
  },
  {
   "cell_type": "code",
   "execution_count": 8,
   "id": "a3a9b991",
   "metadata": {},
   "outputs": [
    {
     "data": {
      "image/png": "[encoded data removed]",
      "text/plain": [
       "<Figure size 640x480 with 1 Axes>"
      ]
     },
     "metadata": {},
     "output_type": "display_data"
    }
   ],
   "source": [
    "import matplotlib.pyplot as plt\n",
    "\n",
    "train['Sales'].hist(bins=100)\n",
    "plt.title(\"Распределение продаж\")\n",
    "plt.xlabel(\"Sales\")\n",
    "plt.ylabel(\"Частота\")\n",
    "plt.show()"
   ]
  },
  {
   "cell_type": "markdown",
   "id": "da38357e",
   "metadata": {},
   "source": [
    "# 2. Анализ временных рядов"
   ]
  },
  {
   "cell_type": "markdown",
   "id": "164539d1",
   "metadata": {},
   "source": [
    "# 3. Прогнозирование, моделирование"
   ]
  },
  {
   "cell_type": "markdown",
   "id": "4acd8bc1",
   "metadata": {},
   "source": [
    "# 4. Результаты"
   ]
  }
 ],
 "metadata": {
  "kernelspec": {
   "display_name": ".venv",
   "language": "python",
   "name": "python3"
  },
  "language_info": {
   "codemirror_mode": {
    "name": "ipython",
    "version": 3
   },
   "file_extension": ".py",
   "mimetype": "text/x-python",
   "name": "python",
   "nbconvert_exporter": "python",
   "pygments_lexer": "ipython3",
   "version": "3.13.3"
  }
 },
 "nbformat": 4,
 "nbformat_minor": 5
}
