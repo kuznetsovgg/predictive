{
 "cells": [
  {
   "cell_type": "markdown",
   "id": "3525deef",
   "metadata": {},
   "source": [
    "# Задание\n",
    "\n",
    "Задача 3. Разработка многофакторной модели для оценки стоимости недвижимости в заданном регионе на основе гибридных подходов с использованием языка программирования Python.\n",
    "1. Собрать данные по стоимости недвижимости в выбранном регионе.\n",
    "2. Выбрать признаки, влияющие на стоимость разных типов недвижимости в регионе.\n",
    "3. Вдвинуть гипотезы о том, какие признаки наиболее и наименее влияют на стоимость разных типов недвижимости ,  проверить гипотезы.\n",
    "4. Смоделировать модель прогнозирования стоимости разных видов недвижимости в выбранном регионе на основе разных методов обучения, сравнить эффективность моделей.\n",
    "5. Дать рекомендации покупателям и продавцам недвижимости. \n",
    "\n",
    "Данные должны быть 2025 года"
   ]
  },
  {
   "cell_type": "markdown",
   "id": "3ed9d5d4",
   "metadata": {},
   "source": [
    "# 1. Сбор данных"
   ]
  },
  {
   "cell_type": "code",
   "execution_count": 11,
   "id": "cf96a19a",
   "metadata": {},
   "outputs": [
    {
     "name": "stdout",
     "output_type": "stream",
     "text": [
      "\n",
      "                              Preparing to collect information from pages..\n",
      "The page from which the collection of information begins: \n",
      " https://cian.ru/cat.php?engine_version=2&p=1&with_neighbors=0&region=1&deal_type=sale&offer_type=flat&room1=1&room2=1&room3=1&only_flat=1\n",
      "\n",
      "Collecting information from pages with list of offers\n",
      " 1 | 1 page with list: [=>=>=>=>=>=>=>=>=>=>=>=>=>=>=>=>=>=>=>=>=>=>=>=>=>=>=>=>] 100% | Count of all parsed: 28. Progress ratio: 2 %. Average price: 333 356 876 rub\n",
      " 2 | 2 page with list: [=>=>=>=>=>=>=>=>=>=>=>=>=>=>=>=>=>=>=>=>=>=>=>=>=>=>=>=>] 100% | Count of all parsed: 50. Progress ratio: 3 %. Average price: 366 739 182 rub\n",
      " 3 | 3 page with list: [=>=>=>=>=>=>=>=>=>=>=>=>=>=>=>=>=>=>=>=>=>=>=>=>=>=>=>=>] 100% | Count of all parsed: 76. Progress ratio: 4 %. Average price: 392 145 678 rub\n",
      " 4 | 4 page with list: [=>=>=>=>=>=>=>=>=>=>=>=>=>=>=>=>=>=>=>=>=>=>=>=>=>=>=>=>] 100% | Count of all parsed: 101. Progress ratio: 5 %. Average price: 428 274 593 rub\n",
      " 5 | 5 page with list: [=>=>=>=>=>=>=>=>=>=>=>=>=>=>=>=>=>=>=>=>=>=>=>=>=>=>=>=>] 100% | Count of all parsed: 129. Progress ratio: 6 %. Average price: 446 866 754 rub\n",
      " 6 | 6 page with list: [=>=>=>=>=>=>=>=>=>=>=>=>=>=>=>=>=>=>=>=>=>=>=>=>=>=>=>=>] 100% | Count of all parsed: 154. Progress ratio: 7 %. Average price: 457 536 859 rub\n",
      " 7 | 7 page with list: [=>=>=>=>=>=>=>=>=>=>=>=>=>=>=>=>=>=>=>=>=>=>=>=>=>=>=>=>] 100% | Count of all parsed: 178. Progress ratio: 8 %. Average price: 476 519 574 rub\n",
      " 8 | 8 page with list: [=>=>=>=>=>=>=>=>=>=>=>=>=>=>=>=>=>=>=>=>=>=>=>=>=>=>=>=>] 100% | Count of all parsed: 203. Progress ratio: 10 %. Average price: 490 360 706 rub\n",
      " 9 | 9 page with list: [=>=>=>=>=>=>=>=>=>=>=>=>=>=>=>=>=>=>=>=>=>=>=>=>=>=>=>=>] 100% | Count of all parsed: 229. Progress ratio: 11 %. Average price: 501 097 080 rub\n",
      " 10 | 10 page with list: [=>=>=>=>=>=>=>=>=>=>=>=>=>=>=>=>=>=>=>=>=>=>=>=>=>=>=>=>] 100% | Count of all parsed: 245. Progress ratio: 11 %. Average price: 506 612 518 rub\n",
      " 11 | 11 page with list: [=>=>=>=>=>=>=>=>=>=>=>=>=>=>=>=>=>=>=>=>=>=>=>=>=>=>=>=>] 100% | Count of all parsed: 267. Progress ratio: 12 %. Average price: 514 197 840 rub\n",
      " 12 | 12 page with list: [=>=>=>=>=>=>=>=>=>=>=>=>=>=>=>=>=>=>=>=>=>=>=>=>=>=>=>=>] 100% | Count of all parsed: 295. Progress ratio: 14 %. Average price: 519 380 617 rub\n",
      " 13 | 13 page with list: [=>=>=>=>=>=>=>=>=>=>=>=>=>=>=>=>=>=>=>=>=>=>=>=>=>=>=>=>] 100% | Count of all parsed: 319. Progress ratio: 15 %. Average price: 525 152 485 rub\n",
      " 14 | 14 page with list: [=>=>=>=>=>=>=>=>=>=>=>=>=>=>=>=>=>=>=>=>=>=>=>=>=>=>=>=>] 100% | Count of all parsed: 337. Progress ratio: 16 %. Average price: 530 571 736 rub\n",
      " 15 | 15 page with list: [=>=>=>=>=>=>=>=>=>=>=>=>=>=>=>=>=>=>=>=>=>=>=>=>=>=>=>=>] 100% | Count of all parsed: 364. Progress ratio: 17 %. Average price: 536 153 195 rub\n",
      " 16 | 16 page with list: [=>=>=>=>=>=>=>=>=>=>=>=>=>=>=>=>=>=>=>=>=>=>=>=>=>=>=>=>] 100% | Count of all parsed: 391. Progress ratio: 18 %. Average price: 541 125 373 rub\n",
      " 17 | 17 page with list: [=>=>=>=>=>=>=>=>=>=>=>=>=>=>=>=>=>=>=>=>=>=>=>=>=>=>=>=>] 100% | Count of all parsed: 419. Progress ratio: 19 %. Average price: 544 485 072 rub\n",
      " 18 | 18 page with list: [=>=>=>=>=>=>=>=>=>=>=>=>=>=>=>=>=>=>=>=>=>=>=>=>=>=>=>=>] 100% | Count of all parsed: 447. Progress ratio: 20 %. Average price: 549 902 942 rub\n",
      " 19 | 19 page with list: [=>=>=>=>=>=>=>=>=>=>=>=>=>=>=>=>=>=>=>=>=>=>=>=>=>=>=>=>] 100% | Count of all parsed: 475. Progress ratio: 22 %. Average price: 553 769 844 rub\n",
      " 20 | 20 page with list: [=>=>=>=>=>=>=>=>=>=>=>=>=>=>=>=>=>=>=>=>=>=>=>=>=>=>=>=>] 100% | Count of all parsed: 503. Progress ratio: 23 %. Average price: 557 197 984 rub\n",
      " 21 | 21 page with list: [=>=>=>=>=>=>=>=>=>=>=>=>=>=>=>=>=>=>=>=>=>=>=>=>=>=>=>=>] 100% | Count of all parsed: 531. Progress ratio: 24 %. Average price: 558 739 921 rub\n",
      " 22 | 22 page with list: [=>=>=>=>=>=>=>=>=>=>=>=>=>=>=>=>=>=>=>=>=>=>=>=>=>=>=>=>] 100% | Count of all parsed: 559. Progress ratio: 25 %. Average price: 560 525 011 rub\n",
      " 23 | 23 page with list: [=>=>=>=>=>=>=>=>=>=>=>=>=>=>=>=>=>=>=>=>=>=>=>=>=>=>=>=>] 100% | Count of all parsed: 587. Progress ratio: 27 %. Average price: 562 924 578 rub\n",
      " 24 | 24 page with list: [=>=>=>=>=>=>=>=>=>=>=>=>=>=>=>=>=>=>=>=>=>=>=>=>=>=>=>=>] 100% | Count of all parsed: 615. Progress ratio: 28 %. Average price: 568 183 488 rub\n",
      " 25 | 25 page with list: [=>=>=>=>=>=>=>=>=>=>=>=>=>=>=>=>=>=>=>=>=>=>=>=>=>=>=>=>] 100% | Count of all parsed: 642. Progress ratio: 29 %. Average price: 571 097 152 rub\n",
      " 26 | 26 page with list: [=>=>=>=>=>=>=>=>=>=>=>=>=>=>=>=>=>=>=>=>=>=>=>=>=>=>=>=>] 100% | Count of all parsed: 670. Progress ratio: 30 %. Average price: 573 199 843 rub\n",
      " 27 | 27 page with list: [=>=>=>=>=>=>=>=>=>=>=>=>=>=>=>=>=>=>=>=>=>=>=>=>=>=>=>=>] 100% | Count of all parsed: 698. Progress ratio: 32 %. Average price: 576 209 404 rub\n",
      " 28 | 28 page with list: [=>=>=>=>=>=>=>=>=>=>=>=>=>=>=>=>=>=>=>=>=>=>=>=>=>=>=>=>] 100% | Count of all parsed: 726. Progress ratio: 33 %. Average price: 577 058 582 rub\n",
      " 29 | 29 page with list: [=>=>=>=>=>=>=>=>=>=>=>=>=>=>=>=>=>=>=>=>=>=>=>=>=>=>=>=>] 100% | Count of all parsed: 754. Progress ratio: 34 %. Average price: 577 782 345 rub\n",
      " 30 | 30 page with list: [=>=>=>=>=>=>=>=>=>=>=>=>=>=>=>=>=>=>=>=>=>=>=>=>=>=>=>=>] 100% | Count of all parsed: 782. Progress ratio: 35 %. Average price: 578 854 816 rub\n",
      " 31 | 31 page with list: [=>=>=>=>=>=>=>=>=>=>=>=>=>=>=>=>=>=>=>=>=>=>=>=>=>=>=>=>] 100% | Count of all parsed: 810. Progress ratio: 37 %. Average price: 580 259 173 rub\n",
      " 32 | 32 page with list: [=>=>=>=>=>=>=>=>=>=>=>=>=>=>=>=>=>=>=>=>=>=>=>=>=>=>=>=>] 100% | Count of all parsed: 838. Progress ratio: 38 %. Average price: 582 017 113 rub\n",
      " 33 | 33 page with list: [=>=>=>=>=>=>=>=>=>=>=>=>=>=>=>=>=>=>=>=>=>=>=>=>=>=>=>=>] 100% | Count of all parsed: 866. Progress ratio: 39 %. Average price: 584 464 381 rub\n",
      " 34 | 34 page with list: [=>=>=>=>=>=>=>=>=>=>=>=>=>=>=>=>=>=>=>=>=>=>=>=>=>=>=>=>] 100% | Count of all parsed: 894. Progress ratio: 40 %. Average price: 590 354 407 rub\n",
      " 35 | 35 page with list: [=>=>=>=>=>=>=>=>=>=>=>=>=>=>=>=>=>=>=>=>=>=>=>=>=>=>=>=>] 100% | Count of all parsed: 922. Progress ratio: 42 %. Average price: 592 799 574 rub\n",
      " 36 | 36 page with list: [=>=>=>=>=>=>=>=>=>=>=>=>=>=>=>=>=>=>=>=>=>=>=>=>=>=>=>=>] 100% | Count of all parsed: 949. Progress ratio: 43 %. Average price: 593 090 565 rub\n",
      " 37 | 37 page with list: [=>=>=>=>=>=>=>=>=>=>=>=>=>=>=>=>=>=>=>=>=>=>=>=>=>=>=>=>] 100% | Count of all parsed: 977. Progress ratio: 44 %. Average price: 593 412 079 rub\n",
      " 38 | 38 page with list: [=>=>=>=>=>=>=>=>=>=>=>=>=>=>=>=>=>=>=>=>=>=>=>=>=>=>=>=>] 100% | Count of all parsed: 1005. Progress ratio: 45 %. Average price: 593 751 603 rub\n",
      " 39 | 39 page with list: [=>=>=>=>=>=>=>=>=>=>=>=>=>=>=>=>=>=>=>=>=>=>=>=>=>=>=>=>] 100% | Count of all parsed: 1033. Progress ratio: 47 %. Average price: 594 105 477 rub\n",
      " 40 | 40 page with list: [=>=>=>=>=>=>=>=>=>=>=>=>=>=>=>=>=>=>=>=>=>=>=>=>=>=>=>=>] 100% | Count of all parsed: 1061. Progress ratio: 48 %. Average price: 594 473 121 rub\n",
      " 41 | 41 page with list: [=>=>=>=>=>=>=>=>=>=>=>=>=>=>=>=>=>=>=>=>=>=>=>=>=>=>=>=>] 100% | Count of all parsed: 1089. Progress ratio: 49 %. Average price: 594 853 671 rub\n",
      " 42 | 42 page with list: [=>=>=>=>=>=>=>=>=>=>=>=>=>=>=>=>=>=>=>=>=>=>=>=>=>=>=>=>] 100% | Count of all parsed: 1117. Progress ratio: 50 %. Average price: 595 256 071 rub\n",
      " 43 | 43 page with list: [=>=>=>=>=>=>=>=>=>=>=>=>=>=>=>=>=>=>=>=>=>=>=>=>=>=>=>=>] 100% | Count of all parsed: 1145. Progress ratio: 52 %. Average price: 595 671 837 rub\n",
      " 44 | 44 page with list: [=>=>=>=>=>=>=>=>=>=>=>=>=>=>=>=>=>=>=>=>=>=>=>=>=>=>=>=>] 100% | Count of all parsed: 1173. Progress ratio: 53 %. Average price: 596 098 809 rub\n",
      " 45 | 45 page with list: [=>=>=>=>=>=>=>=>=>=>=>=>=>=>=>=>=>=>=>=>=>=>=>=>=>=>=>=>] 100% | Count of all parsed: 1201. Progress ratio: 54 %. Average price: 596 543 980 rub\n",
      " 46 | 46 page with list: [=>=>=>=>=>=>=>=>=>=>=>=>=>=>=>=>=>=>=>=>=>=>=>=>=>=>=>=>] 100% | Count of all parsed: 1229. Progress ratio: 55 %. Average price: 597 011 425 rub\n",
      " 47 | 47 page with list: [=>=>=>=>=>=>=>=>=>=>=>=>=>=>=>=>=>=>=>=>=>=>=>=>=>=>=>=>] 100% | Count of all parsed: 1257. Progress ratio: 57 %. Average price: 597 487 545 rub\n",
      " 48 | 48 page with list: [=>=>=>=>=>=>=>=>=>=>=>=>=>=>=>=>=>=>=>=>=>=>=>=>=>=>=>=>] 100% | Count of all parsed: 1285. Progress ratio: 58 %. Average price: 597 979 739 rub\n",
      " 49 | 49 page with list: [=>=>=>=>=>=>=>=>=>=>=>=>=>=>=>=>=>=>=>=>=>=>=>=>=>=>=>=>] 100% | Count of all parsed: 1313. Progress ratio: 59 %. Average price: 598 507 454 rub\n",
      " 50 | 50 page with list: [=>=>=>=>=>=>=>=>=>=>=>=>=>=>=>=>=>=>=>=>=>=>=>=>=>=>=>=>] 100% | Count of all parsed: 1341. Progress ratio: 60 %. Average price: 599 067 875 rub\n",
      " 51 | 51 page with list: [=>=>=>=>=>=>=>=>=>=>=>=>=>=>=>=>=>=>=>=>=>=>=>=>=>=>=>=>] 100% | Count of all parsed: 1369. Progress ratio: 62 %. Average price: 599 673 680 rub\n",
      " 52 | 52 page with list: [=>=>=>=>=>=>=>=>=>=>=>=>=>=>=>=>=>=>=>=>=>=>=>=>=>=>=>=>] 100% | Count of all parsed: 1397. Progress ratio: 63 %. Average price: 600 327 709 rub\n",
      " 53 | 53 page with list: [=>=>=>=>=>=>=>=>=>=>=>=>=>=>=>=>=>=>=>=>=>=>=>=>=>=>=>=>] 100% | Count of all parsed: 1425. Progress ratio: 64 %. Average price: 601 039 397 rub\n",
      " 54 | 54 page with list: [=>=>=>=>=>=>=>=>=>=>=>=>=>=>=>=>=>=>=>=>=>=>=>=>=>] 100% | Count of all parsed: 1447. Progress ratio: 73 %. Average price: 601 619 391 rub\n",
      " 55 | 55 page with list: [=>=>=>=>=>=>=>=>=>=>=>=>=>=>=>=>=>=>=>=>=>=>=>=>=>=>=>=>] 100% | Count of all parsed: 1451. Progress ratio: 65 %. Average price: 601 649 675 rub\n",
      " 56 | 56 page with list: [=>=>=>=>=>=>=>=>=>=>=>=>=>=>=>=>=>=>=>=>=>=>=>=>=>=>=>=>] 100% | Count of all parsed: 1451. Progress ratio: 65 %. Average price: 601 649 675 rub\n",
      " 57 | 57 page with list: [=>=>=>=>=>=>=>=>=>=>=>=>=>=>=>=>=>=>=>=>=>=>=>=>=>=>=>=>] 100% | Count of all parsed: 1458. Progress ratio: 66 %. Average price: 601 800 997 rub\n",
      " 58 | 58 page with list: [=>=>=>=>=>=>=>=>=>=>=>=>=>=>=>=>=>=>=>=>=>=>=>=>=>=>=>=>] 100% | Count of all parsed: 1458. Progress ratio: 66 %. Average price: 601 800 997 rub\n",
      " 59 | 59 page with list: [=>=>=>=>=>=>=>=>=>=>=>=>=>=>=>=>=>=>=>=>=>=>=>=>=>=>=>=>] 100% | Count of all parsed: 1458. Progress ratio: 66 %. Average price: 601 800 997 rub\n",
      " 60 | 60 page with list: [=>=>=>=>=>=>=>=>=>=>=>=>=>=>=>=>=>=>=>=>=>=>=>=>=>=>=>=>] 100% | Count of all parsed: 1458. Progress ratio: 66 %. Average price: 601 800 997 rub\n",
      " 61 | 61 page with list: [=>=>=>=>=>=>=>=>=>=>=>=>=>=>=>=>=>=>=>=>=>=>=>=>=>=>=>=>] 100% | Count of all parsed: 1458. Progress ratio: 66 %. Average price: 601 800 997 rub\n",
      " 62 | 62 page with list: [=>=>=>=>=>=>=>=>=>=>=>=>=>=>=>=>=>=>=>=>=>=>=>=>=>=>=>=>] 100% | Count of all parsed: 1458. Progress ratio: 66 %. Average price: 601 800 997 rub\n",
      " 63 | 63 page with list: [=>=>=>=>=>=>=>=>=>=>=>=>=>=>=>=>=>=>=>=>=>=>=>=>=>=>=>=>] 100% | Count of all parsed: 1459. Progress ratio: 66 %. Average price: 601 810 826 rub\n",
      " 64 | 64 page with list: [=>=>=>=>=>=>=>=>=>=>=>=>=>=>=>=>=>=>=>=>=>=>=>=>=>=>=>=>] 100% | Count of all parsed: 1459. Progress ratio: 66 %. Average price: 601 810 826 rub\n",
      " 65 | 65 page with list: [=>=>=>=>=>=>=>=>=>=>=>=>=>=>=>=>=>=>=>=>=>=>=>=>=>=>=>=>] 100% | Count of all parsed: 1459. Progress ratio: 66 %. Average price: 601 810 826 rub\n",
      " 66 | 66 page with list: [=>=>=>=>=>=>=>=>=>=>=>=>=>=>=>=>=>=>=>=>=>=>=>=>=>=>=>=>] 100% | Count of all parsed: 1459. Progress ratio: 66 %. Average price: 601 810 826 rub\n",
      " 67 | 67 page with list: [=>=>=>=>=>=>=>=>=>=>=>=>=>=>=>=>=>=>=>=>=>=>=>=>=>=>=>=>] 100% | Count of all parsed: 1459. Progress ratio: 66 %. Average price: 601 810 826 rub\n",
      " 68 | 68 page with list: [=>=>=>=>=>=>=>=>=>=>=>=>=>=>=>=>=>=>=>=>=>=>=>=>=>=>=>=>] 100% | Count of all parsed: 1459. Progress ratio: 66 %. Average price: 601 810 826 rub\n",
      " 69 | 69 page with list: [=>=>=>=>=>=>=>=>=>=>=>=>=>=>=>=>=>=>=>=>=>=>=>=>=>=>=>=>] 100% | Count of all parsed: 1459. Progress ratio: 66 %. Average price: 601 810 826 rub\n",
      " 70 | 70 page with list: [=>=>=>=>=>=>=>=>=>=>=>=>=>=>=>=>=>=>=>=>=>=>=>=>=>=>=>=>] 100% | Count of all parsed: 1459. Progress ratio: 66 %. Average price: 601 810 826 rub\n",
      " 71 | 71 page with list: [=>=>=>=>=>=>=>=>=>=>=>=>=>=>=>=>=>=>=>=>=>=>=>=>=>=>=>=>] 100% | Count of all parsed: 1459. Progress ratio: 66 %. Average price: 601 810 826 rub\n",
      " 72 | 72 page with list: [=>=>=>=>=>=>=>=>=>=>=>=>=>=>=>=>=>=>=>=>=>=>=>=>=>=>=>=>] 100% | Count of all parsed: 1459. Progress ratio: 66 %. Average price: 601 810 826 rub\n",
      " 73 | 73 page with list: [=>=>=>=>=>=>=>=>=>=>=>=>=>=>=>=>=>=>=>=>=>=>=>=>=>=>=>=>] 100% | Count of all parsed: 1459. Progress ratio: 66 %. Average price: 601 810 826 rub\n",
      " 74 | 74 page with list: [=>=>=>=>=>=>=>=>=>=>=>=>=>=>=>=>=>=>=>=>=>=>=>=>=>=>=>=>] 100% | Count of all parsed: 1459. Progress ratio: 66 %. Average price: 601 810 826 rub\n",
      " 75 | 75 page with list: [=>=>=>=>=>=>=>=>=>=>=>=>=>=>=>=>=>=>=>=>=>=>=>=>=>=>=>=>] 100% | Count of all parsed: 1459. Progress ratio: 66 %. Average price: 601 810 826 rub\n",
      " 76 | 76 page with list: [=>=>=>=>=>=>=>=>=>=>=>=>=>=>=>=>=>=>=>=>=>=>=>=>=>=>=>=>] 100% | Count of all parsed: 1459. Progress ratio: 66 %. Average price: 601 810 826 rub\n",
      " 77 | 77 page with list: [=>=>=>=>=>=>=>=>=>=>=>=>=>=>=>=>=>=>=>=>=>=>=>=>=>=>=>=>] 100% | Count of all parsed: 1459. Progress ratio: 66 %. Average price: 601 810 826 rub\n",
      " 78 | 78 page with list: [=>=>=>=>=>=>=>=>=>=>=>=>=>=>=>=>=>=>=>=>=>=>=>=>=>=>=>=>] 100% | Count of all parsed: 1459. Progress ratio: 66 %. Average price: 601 810 826 rub\n",
      " 79 | 79 page with list: [=>=>=>=>=>=>=>=>=>=>=>=>=>=>=>=>=>=>=>=>=>=>=>=>=>=>=>=>] 100% | Count of all parsed: 1459. Progress ratio: 66 %. Average price: 601 810 826 rub\n",
      " 80 | 80 page with list: [=>=>=>=>=>=>=>=>=>=>=>=>=>=>=>=>=>=>=>=>=>=>=>=>=>=>=>=>] 100% | Count of all parsed: 1459. Progress ratio: 66 %. Average price: 601 810 826 rub\n",
      "\n",
      "The collection of information from the pages with list of offers is completed\n",
      "Total number of parsed offers: 1459. \n"
     ]
    }
   ],
   "source": [
    "from cianparser import CianParser\n",
    "import pandas as pd\n",
    "\n",
    "parser = CianParser(location=\"Москва\")\n",
    "\n",
    "flats = parser.get_flats(\n",
    "    deal_type=\"sale\",\n",
    "    rooms=(1, 2, 3),\n",
    "    additional_settings={\n",
    "        \"start_page\": 1,\n",
    "        \"end_page\": 80,\n",
    "        \"only_flat\": True,\n",
    "        # \"sort_by\": \"price_from_min_to_max\"\n",
    "    }\n",
    ")\n",
    "\n",
    "df = pd.DataFrame(flats)\n",
    "df.to_csv(\"flats.csv\", index=False, encoding=\"utf-8-sig\")"
   ]
  },
  {
   "cell_type": "markdown",
   "id": "2e0ec092",
   "metadata": {},
   "source": [
    "# 2. Выбор признаков"
   ]
  },
  {
   "cell_type": "code",
   "execution_count": 12,
   "id": "a947b2b2",
   "metadata": {},
   "outputs": [],
   "source": [
    "features = [\n",
    "    \"price\",                # цена - таргет\n",
    "    \"district\",             # район\n",
    "    \"underground\",          # метро\n",
    "    \"street\",               # улица\n",
    "    \"house_number\",         # номер дома\n",
    "    \"floor\",                # этаж\n",
    "    \"floors_count\",         # этажей в доме\n",
    "    \"total_meters\",         # общая площадь\n",
    "    \"rooms_count\",          # комнаты\n",
    "    \"residential_complex\",  # название ЖК\n",
    "    \"url\"                   # ссылка (пригодится)\n",
    "]\n",
    "df = df[features]\n",
    "df.to_csv(\"flats_cut.csv\", index=False, encoding=\"utf-8-sig\")"
   ]
  },
  {
   "cell_type": "markdown",
   "id": "1c8763a0",
   "metadata": {},
   "source": [
    "# Обработка датасета (импорт из файла)"
   ]
  },
  {
   "cell_type": "code",
   "execution_count": 38,
   "id": "6f36fb97",
   "metadata": {},
   "outputs": [
    {
     "name": "stdout",
     "output_type": "stream",
     "text": [
      "(1459, 11)\n"
     ]
    },
    {
     "data": {
      "text/html": [
       "<div>\n",
       "<style scoped>\n",
       "    .dataframe tbody tr th:only-of-type {\n",
       "        vertical-align: middle;\n",
       "    }\n",
       "\n",
       "    .dataframe tbody tr th {\n",
       "        vertical-align: top;\n",
       "    }\n",
       "\n",
       "    .dataframe thead th {\n",
       "        text-align: right;\n",
       "    }\n",
       "</style>\n",
       "<table border=\"1\" class=\"dataframe\">\n",
       "  <thead>\n",
       "    <tr style=\"text-align: right;\">\n",
       "      <th></th>\n",
       "      <th>price</th>\n",
       "      <th>district</th>\n",
       "      <th>underground</th>\n",
       "      <th>street</th>\n",
       "      <th>house_number</th>\n",
       "      <th>floor</th>\n",
       "      <th>floors_count</th>\n",
       "      <th>total_meters</th>\n",
       "      <th>rooms_count</th>\n",
       "      <th>residential_complex</th>\n",
       "      <th>url</th>\n",
       "    </tr>\n",
       "  </thead>\n",
       "  <tbody>\n",
       "    <tr>\n",
       "      <th>0</th>\n",
       "      <td>62598031.0</td>\n",
       "      <td>Дорогомилово</td>\n",
       "      <td>Москва-Сити</td>\n",
       "      <td>NaN</td>\n",
       "      <td>NaN</td>\n",
       "      <td>11</td>\n",
       "      <td>18</td>\n",
       "      <td>45.8</td>\n",
       "      <td>2</td>\n",
       "      <td>Бадаевский ЖК</td>\n",
       "      <td>https://www.cian.ru/sale/flat/313877981/</td>\n",
       "    </tr>\n",
       "    <tr>\n",
       "      <th>1</th>\n",
       "      <td>76250000.0</td>\n",
       "      <td>Пресненский</td>\n",
       "      <td>Москва-Сити</td>\n",
       "      <td>Краснопресненская набережная</td>\n",
       "      <td>14Ак1</td>\n",
       "      <td>25</td>\n",
       "      <td>61</td>\n",
       "      <td>61.0</td>\n",
       "      <td>2</td>\n",
       "      <td>Capital Towers</td>\n",
       "      <td>https://www.cian.ru/sale/flat/315795006/</td>\n",
       "    </tr>\n",
       "    <tr>\n",
       "      <th>2</th>\n",
       "      <td>28172548.0</td>\n",
       "      <td>Даниловский</td>\n",
       "      <td>Павелецкая</td>\n",
       "      <td>NaN</td>\n",
       "      <td>NaN</td>\n",
       "      <td>6</td>\n",
       "      <td>27</td>\n",
       "      <td>40.5</td>\n",
       "      <td>2</td>\n",
       "      <td>Эра ЖК</td>\n",
       "      <td>https://www.cian.ru/sale/flat/301260611/</td>\n",
       "    </tr>\n",
       "    <tr>\n",
       "      <th>3</th>\n",
       "      <td>103000000.0</td>\n",
       "      <td>Красносельский</td>\n",
       "      <td>Сухаревская</td>\n",
       "      <td>переулок Даев</td>\n",
       "      <td>31С2</td>\n",
       "      <td>5</td>\n",
       "      <td>5</td>\n",
       "      <td>152.0</td>\n",
       "      <td>3</td>\n",
       "      <td>NaN</td>\n",
       "      <td>https://www.cian.ru/sale/flat/317646469/</td>\n",
       "    </tr>\n",
       "    <tr>\n",
       "      <th>4</th>\n",
       "      <td>89850000.0</td>\n",
       "      <td>Пресненский</td>\n",
       "      <td>Улица 1905 года</td>\n",
       "      <td>NaN</td>\n",
       "      <td>NaN</td>\n",
       "      <td>2</td>\n",
       "      <td>22</td>\n",
       "      <td>99.7</td>\n",
       "      <td>2</td>\n",
       "      <td>Лайф Тайм ЖК</td>\n",
       "      <td>https://www.cian.ru/sale/flat/316363605/</td>\n",
       "    </tr>\n",
       "  </tbody>\n",
       "</table>\n",
       "</div>"
      ],
      "text/plain": [
       "         price        district      underground                        street  \\\n",
       "0   62598031.0    Дорогомилово      Москва-Сити                           NaN   \n",
       "1   76250000.0     Пресненский      Москва-Сити  Краснопресненская набережная   \n",
       "2   28172548.0     Даниловский       Павелецкая                           NaN   \n",
       "3  103000000.0  Красносельский      Сухаревская                 переулок Даев   \n",
       "4   89850000.0     Пресненский  Улица 1905 года                           NaN   \n",
       "\n",
       "  house_number  floor  floors_count  total_meters  rooms_count  \\\n",
       "0          NaN     11            18          45.8            2   \n",
       "1        14Ак1     25            61          61.0            2   \n",
       "2          NaN      6            27          40.5            2   \n",
       "3         31С2      5             5         152.0            3   \n",
       "4          NaN      2            22          99.7            2   \n",
       "\n",
       "  residential_complex                                       url  \n",
       "0       Бадаевский ЖК  https://www.cian.ru/sale/flat/313877981/  \n",
       "1      Capital Towers  https://www.cian.ru/sale/flat/315795006/  \n",
       "2              Эра ЖК  https://www.cian.ru/sale/flat/301260611/  \n",
       "3                 NaN  https://www.cian.ru/sale/flat/317646469/  \n",
       "4        Лайф Тайм ЖК  https://www.cian.ru/sale/flat/316363605/  "
      ]
     },
     "execution_count": 38,
     "metadata": {},
     "output_type": "execute_result"
    }
   ],
   "source": [
    "import pandas as pd\n",
    "df = pd.read_csv(\"flats_cut.csv\")\n",
    "print(df.shape)\n",
    "df.head()"
   ]
  },
  {
   "cell_type": "code",
   "execution_count": 39,
   "id": "a246e2e4",
   "metadata": {},
   "outputs": [
    {
     "data": {
      "text/plain": [
       "price                   30\n",
       "district                99\n",
       "underground              6\n",
       "street                  88\n",
       "house_number            92\n",
       "floor                    0\n",
       "floors_count             0\n",
       "total_meters             0\n",
       "rooms_count              0\n",
       "residential_complex    567\n",
       "url                      0\n",
       "dtype: int64"
      ]
     },
     "execution_count": 39,
     "metadata": {},
     "output_type": "execute_result"
    }
   ],
   "source": [
    "df.isna().sum()"
   ]
  },
  {
   "cell_type": "code",
   "execution_count": 40,
   "id": "befcb5f6",
   "metadata": {},
   "outputs": [],
   "source": [
    "df = df.dropna(subset=[\"district\", \"underground\", \"street\", \"house_number\"])"
   ]
  },
  {
   "cell_type": "code",
   "execution_count": 41,
   "id": "6d60688b",
   "metadata": {},
   "outputs": [],
   "source": [
    "df['price'] = df['price'].fillna(df['price'].median())"
   ]
  },
  {
   "cell_type": "code",
   "execution_count": 42,
   "id": "f186e76e",
   "metadata": {},
   "outputs": [
    {
     "name": "stdout",
     "output_type": "stream",
     "text": [
      "['Capital Towers' nan 'Крылья' 'Корона Эйр' 'Hide' 'Клубный квартал '\n",
      " 'Малая Бронная 15' 'Монблан' 'Береговой-2' 'Клубный дом \"OPUS\"'\n",
      " 'Дом Серебряный Бор' 'ЗИЛАРТ' 'Nicole'\n",
      " 'Собрание клубных домов West Garden' 'LUCE' 'RedSide' 'Береговой' 'Lunar'\n",
      " 'FORST' 'мой адрес На Береговом' 'Континенталь' 'SAVVIN RIVER RESIDENCE'\n",
      " 'Водный' 'Царицыно' 'Река' 'Династия' 'Садовые кварталы' 'Прайм Парк'\n",
      " 'Дом на Беговой' 'PAVE' 'Жизнь на Плющихе' 'Wellton park'\n",
      " 'Дом Достижение' 'Интонация' 'Английский квартал' 'Мещерский лес'\n",
      " 'Исторический дом ' 'Квартал Шуваловский' 'Адмирал' 'Сердце Столицы'\n",
      " 'Никитский-6' 'ДОМ XXII' 'TopHills' 'Собрание клубных домов ORDYNKA'\n",
      " 'Кленовый DOM' 'Вишневый сад' 'Эталон-Сити' 'Талисман на Рокоссовского'\n",
      " 'Lucky' 'Кутузов Град' 'Sky House' 'Панорама' 'Sydney Prime'\n",
      " 'Level Причальный' 'Eniteo' 'Клубный дом Forum' 'Советник' 'Mod' 'ARTEL'\n",
      " 'Дом на Мосфильмовской' 'VERY' 'Символ' 'Лесной дом' 'Рихард'\n",
      " 'Среда на Кутузовском ЖК' 'Среда на Лобачевского ЖК' 'Западный порт'\n",
      " 'Zvonarsky Deluxe' 'Огни' 'Мультиквартал CITYZEN' 'Парк Палас'\n",
      " 'Нежинский ковчег' 'Ласточкино гнездо' 'MainStreet' 'Aquatoria' 'Событие'\n",
      " 'Михалковский' 'Дом 56' 'Клубный дом Космо 4/22' 'Дом Горизонтов'\n",
      " 'Метрополия' 'Headliner' 'Вестердам' 'Триколор' 'Остров'\n",
      " 'Высотка на Жукова' 'Victory Park Residences' 'Коперник' 'Дом Дау'\n",
      " 'Четыре Ветра' 'Мир Митино' 'Брюсов 19' 'Триумф-Палас' 'Will Towers'\n",
      " 'Dominion' 'Воробьёв Дом' 'Режиссёр' 'Тессинский, 1' 'Сиреневый парк'\n",
      " 'Пять Звезд' 'Страна.Озёрная' 'Artisan' 'Afi Tower' 'Дом в сосновой роще'\n",
      " 'Sydney City' 'Дубровская Слобода' 'Фили Град' 'Ривер Парк Коломенское'\n",
      " 'Утесов' 'City Park' 'Ближняя дача' 'Дом на Смоленской набережной'\n",
      " 'Кристалл Хаус' 'LIFE-Кутузовский' 'FreeDOM' 'The Mostman'\n",
      " 'White Khamovniki' 'Барклая 6' 'Union Park' 'Павелецкая Сити'\n",
      " 'Bauman House' 'Репаблик ЖК' 'Dialog' 'Воробьевы Горы'\n",
      " 'Дизайнерский дом Eleven' 'Уланский, 13' 'Бутиковский 5' 'Аэробус'\n",
      " 'Седьмое Небо' 'Поселок художников' 'Wellton Towers' 'ÁLIA'\n",
      " 'Городские резиденции SPIRES' 'Сидней Сити ЖК' 'Покровский берег'\n",
      " 'Клубный дом TURGENEV' 'Дом на Покровском бульваре' 'iLove' 'Лайм'\n",
      " 'Летний сад' 'Соколиный форт' 'Ever' 'Янтарный город' 'Настоящее'\n",
      " 'Алые Паруса' 'Republic' 'Дом на набережной INSIDER' 'PRIDE'\n",
      " 'Шмитовский 16' 'Царская площадь' 'Vander Park' 'HIGH LIFE' 'Врубеля 4'\n",
      " 'Квартал Foriver' 'GRAND DELUXE на Плющихе' 'Cloud Nine' 'WOW'\n",
      " 'Мичуринский' 'Ренессанс' 'Воронцово' 'Клубный дом на Арбате'\n",
      " 'Фьюжн парк' 'Barkli Plaza' 'Некрасовка' 'Sky Garden' 'Архитектор'\n",
      " 'Небо — Небоскребы на Мичуринском, 56' 'Изумрудная долина III'\n",
      " 'Гранд-парк' 'Студенческая 20' 'Филипповский' 'Царицыно-2' 'Молжаниново'\n",
      " 'Волжский Парк ЖК' 'Руставели 14' 'Счастье в Садовниках' 'Moments'\n",
      " 'Большая семерка' 'Дмитровский парк' 'Famous' 'Квартал МОНС' 'Домашний'\n",
      " 'Вавилова 52' 'Матвеевский парк' 'ONYX Deluxe' 'Level Кутузовский'\n",
      " 'SREDA' 'Город на Реке Тушино-2018' 'Пётр I' 'Пресня Сити' 'Silver'\n",
      " 'Резиденции Композиторов' 'Селигер Сити' 'LIFE Варшавская'\n",
      " 'Золотые Ключи 2' 'Мосфильмовский' 'Изумруд' 'Кутузовская Ривьера'\n",
      " 'Slava' 'Суббота' 'Серебряный парк' 'Barkli Park' 'Полянка/44'\n",
      " 'Абрикосов' 'АртХаус' 'Дом Лаврушинский' 'Венский дом' 'Приволье'\n",
      " 'В некрасовке-2 ' 'Жемчужина Зеленограда' '1-й Ленинградский'\n",
      " 'Открытый парк' 'Юрлово' 'Настроение' 'Дом на Профсоюзной 69' 'Грани'\n",
      " 'Парковый квартал ' 'Rotterdam' 'Люблинский парк' 'Орехово-Борисово'\n",
      " 'Лучи' 'Авиационная, 59-63' 'Новохохловская 15' 'Кварталы 21/19' 'Shagal'\n",
      " 'Лосиный остров' 'Stellar City' 'City Bay' 'мой адрес На Клинской'\n",
      " 'MYPRIORITY Dubrovka' 'Кронштадтский 14' 'Сказочный лес' 'Галактика'\n",
      " 'RiverSky' 'Просторная 7' 'Зиларт ЖК' 'Головино' 'Крылатский'\n",
      " 'Кронштадтский 9' 'Kinetik' 'Мичурино' 'Лосиноостровский парк'\n",
      " 'Тринити-2' 'Перовское 2' 'Волоколамское шоссе' 'Золотая звезда'\n",
      " 'CRYSTAL Трилогия' 'Квартал на набережной NOW' 'Театральный квартал'\n",
      " 'Discovery Park' 'MYPRIORITY Basmanny' 'Столичные поляны' 'Хорошевский'\n",
      " 'hideOUT' 'The Lake' 'Академика Павлова' 'Зорге 9 ЖК'\n",
      " 'Level Академическая' 'D1' 'Зеленая Вертикаль' 'Green park'\n",
      " 'КутузовGRAD I' 'Dream Towers' 'Upside Towers' 'Серебряный фонтан'\n",
      " 'SYMPHONY 34' 'FoRest' 'Stories на Мосфильмовской' 'Five Towers'\n",
      " 'Савеловский Сити' 'Вереск']\n"
     ]
    }
   ],
   "source": [
    "print(df['residential_complex'].unique())"
   ]
  },
  {
   "cell_type": "code",
   "execution_count": 43,
   "id": "302d6bd5",
   "metadata": {},
   "outputs": [],
   "source": [
    "df['residential_complex'] = df['residential_complex'].fillna('Без ЖК')"
   ]
  },
  {
   "cell_type": "code",
   "execution_count": 44,
   "id": "e5f9acd9",
   "metadata": {},
   "outputs": [
    {
     "name": "stdout",
     "output_type": "stream",
     "text": [
      "<class 'pandas.core.frame.DataFrame'>\n",
      "Index: 1246 entries, 1 to 1458\n",
      "Data columns (total 11 columns):\n",
      " #   Column               Non-Null Count  Dtype  \n",
      "---  ------               --------------  -----  \n",
      " 0   price                1246 non-null   float64\n",
      " 1   district             1246 non-null   object \n",
      " 2   underground          1246 non-null   object \n",
      " 3   street               1246 non-null   object \n",
      " 4   house_number         1246 non-null   object \n",
      " 5   floor                1246 non-null   int64  \n",
      " 6   floors_count         1246 non-null   int64  \n",
      " 7   total_meters         1246 non-null   float64\n",
      " 8   rooms_count          1246 non-null   int64  \n",
      " 9   residential_complex  1246 non-null   object \n",
      " 10  url                  1246 non-null   object \n",
      "dtypes: float64(2), int64(3), object(6)\n",
      "memory usage: 116.8+ KB\n"
     ]
    }
   ],
   "source": [
    "df.info()"
   ]
  },
  {
   "cell_type": "markdown",
   "id": "5af8e132",
   "metadata": {},
   "source": [
    "# 3. Гипотезы и их проверка"
   ]
  },
  {
   "cell_type": "markdown",
   "id": "024abc28",
   "metadata": {},
   "source": [
    "1. Чем больше общая площадь квартиры (total_meters), тем выше её цена.\n",
    "2. Квартиры в центральных районах (district) стоят дороже, чем в спальных.\n",
    "3. Близость к метро (underground) увеличивает стоимость квартиры.\n",
    "4. Наличие жилого комплекса (residential_complex) повышает цену объекта.\n",
    "5. Этаж (floor) почти не влияет на цену, если дом не высокий.\n",
    "6. Название улицы (street) и номер дома (house_number) не влияют на цену.\n",
    "7. Количество комнат (rooms_count) напрямую связано с ценой, но не линейно."
   ]
  },
  {
   "cell_type": "code",
   "execution_count": 52,
   "id": "4d8865ad",
   "metadata": {},
   "outputs": [
    {
     "data": {
      "image/png": "[encoded data removed]",
      "text/plain": [
       "<Figure size 1000x700 with 2 Axes>"
      ]
     },
     "metadata": {},
     "output_type": "display_data"
    }
   ],
   "source": [
    "import seaborn as sns\n",
    "import matplotlib.pyplot as plt\n",
    "\n",
    "numeric_cols = [\n",
    "    \"price\", \"floor\", \"floors_count\", \"total_meters\", \"rooms_count\"\n",
    "]\n",
    "corr_matrix = df[numeric_cols].corr().round(2)\n",
    "\n",
    "plt.figure(figsize=(10, 7))\n",
    "sns.heatmap(corr_matrix, annot=True, cmap=\"coolwarm\", fmt=\".2f\", square=True)\n",
    "plt.title(\"Матрица корреляций числовых признаков\")\n",
    "plt.tight_layout()\n",
    "plt.show()"
   ]
  },
  {
   "cell_type": "code",
   "execution_count": 60,
   "id": "78204733",
   "metadata": {},
   "outputs": [
    {
     "name": "stdout",
     "output_type": "stream",
     "text": [
      "1: 0.7351614460334713, 2.828046667879163e-212\n",
      "2: 5.311554682361, 4.2757261039706784e-51\n",
      "3: 3.895805456098914, 1.3816526732664257e-52\n",
      "4: 5.749154301520307, 2.2750940035190548e-91\n",
      "5: -0.09936702194999603, 0.00044356897826399757\n",
      "6: 9.05013175754203, 3.519655157388719e-149, 1.1629087441802024, 0.031320428886716496\n",
      "7: 0.3002994337703042, 2.2071018882045807e-27\n"
     ]
    }
   ],
   "source": [
    "from scipy.stats import pearsonr, f_oneway\n",
    "\n",
    "# Гипотеза 1\n",
    "corr_result = df[['total_meters', 'price']].dropna()\n",
    "corr_coef, corr_p = pearsonr(corr_result['total_meters'], corr_result['price'])\n",
    "print(f\"1: {corr_coef}, {corr_p}\")\n",
    "\n",
    "# Гипотеза 2\n",
    "anova_df = df[['district', 'price']].dropna()\n",
    "district_groups = [g['price'].values for _, g in anova_df.groupby('district')]\n",
    "anova_f_district, anova_p_district = f_oneway(*district_groups)\n",
    "print(f\"2: {anova_f_district}, {anova_p_district}\")\n",
    "\n",
    "# Гипотеза 3\n",
    "anova_df2 = df[['underground', 'price']].dropna()\n",
    "underground_groups = [g['price'].values for _, g in anova_df2.groupby('underground')]\n",
    "anova_f_underground, anova_p_underground = f_oneway(*underground_groups)\n",
    "print(f\"3: {anova_f_underground}, {anova_p_underground}\")\n",
    "\n",
    "# Гипотеза 4: ANOVA по residential_complex\n",
    "anova_df4 = df[['residential_complex', 'price']].dropna()\n",
    "res_groups = [g['price'].values for _, g in anova_df4.groupby('residential_complex')]\n",
    "anova_f_res, anova_p_res = f_oneway(*res_groups)\n",
    "print(f\"4: {anova_f_res}, {anova_p_res}\")\n",
    "\n",
    "# Гипотеза 5: Корреляция floor и price\n",
    "corr_result_floor = df[['floor', 'price']].dropna()\n",
    "corr_coef_floor, corr_p_floor = pearsonr(corr_result_floor['floor'], corr_result_floor['price'])\n",
    "print(f\"5: {corr_coef_floor}, {corr_p_floor}\")\n",
    "\n",
    "# Гипотеза 6: ANOVA для street и house_number\n",
    "anova_df6a = df[['street', 'price']].dropna()\n",
    "street_groups = [g['price'].values for _, g in anova_df6a.groupby('street')]\n",
    "anova_f_street, anova_p_street = f_oneway(*street_groups)\n",
    "\n",
    "anova_df6b = df[['house_number', 'price']].dropna()\n",
    "house_groups = [g['price'].values for _, g in anova_df6b.groupby('house_number')]\n",
    "anova_f_house, anova_p_house = f_oneway(*house_groups)\n",
    "print(f\"6: {anova_f_street}, {anova_p_street}, {anova_f_house}, {anova_p_house}\")\n",
    "\n",
    "# Гипотеза 7: rooms_count и price (ANOVA + корреляция)\n",
    "anova_df7 = df[['rooms_count', 'price']].dropna()\n",
    "rooms_groups = [g['price'].values for _, g in anova_df7.groupby('rooms_count')]\n",
    "anova_f_rooms, anova_p_rooms = f_oneway(*rooms_groups)\n",
    "corr_coef_rooms, corr_p_rooms = pearsonr(anova_df7['rooms_count'], anova_df7['price'])\n",
    "print(f\"7: {corr_coef_rooms}, {corr_p_rooms}\")"
   ]
  },
  {
   "cell_type": "markdown",
   "id": "68d71d47",
   "metadata": {},
   "source": [
    "Гипотеза 1:  \n",
    "Чем больше общая площадь (total_meters), тем выше цена\n",
    "→ corr = 0.735, p ≈ 2.8e-212  \n",
    "Сильная положительная корреляция, связь очень значима — площадь сильно влияет на цену.  \n",
    "\n",
    "Гипотеза 2:  \n",
    "Квартиры в разных районах (district) отличаются по цене\n",
    "→ F = 5.31, p ≈ 4.28e-51  \n",
    "Различия между районами статистически значимы, район влияет на цену.  \n",
    "\n",
    "Гипотеза 3:  \n",
    "Близость к метро (underground) влияет на цену\n",
    "→ F = 3.90, p ≈ 1.38e-52\n",
    "Метро оказывает значимое влияние на цену, по выборке.  \n",
    "\n",
    "Гипотеза 4:  \n",
    "Жилой комплекс (residential_complex) повышает цену\n",
    "→ F = 5.75, p ≈ 2.28e-91  \n",
    "Наличие и тип ЖК значимо влияют на стоимость жилья.  \n",
    "\n",
    "Гипотеза 5:  \n",
    "Этаж (floor) почти не влияет на цену\n",
    "→ corr = -0.099, p ≈ 0.00044  \n",
    "Связь слабая, но значимая, влияние небольшое и скорее обратное.  \n",
    "\n",
    "Гипотеза 6:  \n",
    "Название улицы (street) и номер дома (house_number) не влияют  \n",
    "street: F = 9.05, p ≈ 3.52e-149  \n",
    "house_number: F = 1.16, p ≈ 0.031  \n",
    "Улица заметно влияет на цену, а номер дома — незначительно, но чуть выше порога (0.05).  \n",
    "\n",
    "Гипотеза 7:  \n",
    "Количество комнат (rooms_count) влияет на цену, но не линейно\n",
    "→ corr = 0.30, p ≈ 2.2e-27  \n",
    "Есть умеренная положительная связь, значимая, но она не строго линейная.  "
   ]
  },
  {
   "cell_type": "markdown",
   "id": "7df9759b",
   "metadata": {},
   "source": [
    "# 4. Моделирование"
   ]
  },
  {
   "cell_type": "code",
   "execution_count": null,
   "id": "9834c67c",
   "metadata": {},
   "outputs": [],
   "source": [
    "import pandas as pd\n",
    "from sklearn.model_selection import train_test_split\n",
    "from sklearn.preprocessing import OneHotEncoder, StandardScaler\n",
    "from sklearn.compose import ColumnTransformer\n",
    "from sklearn.pipeline import Pipeline\n",
    "from sklearn.impute import SimpleImputer\n",
    "from sklearn.linear_model import LinearRegression\n",
    "from sklearn.tree import DecisionTreeRegressor\n",
    "from sklearn.ensemble import RandomForestRegressor, GradientBoostingRegressor\n",
    "from sklearn.metrics import mean_squared_error, mean_absolute_error, r2_score\n",
    "\n",
    "X = df.drop(columns=['price', 'url'])\n",
    "y = df['price']\n",
    "\n",
    "cat_features = ['district', 'underground', 'street', 'house_number', 'residential_complex']\n",
    "num_features = ['floor', 'floors_count', 'total_meters', 'rooms_count']\n",
    "\n",
    "preprocessor = ColumnTransformer([\n",
    "    ('num', Pipeline([\n",
    "        ('imputer', SimpleImputer(strategy='median')),\n",
    "        ('scaler', StandardScaler())\n",
    "    ]), num_features),\n",
    "    ('cat', Pipeline([\n",
    "        ('imputer', SimpleImputer(strategy='constant', fill_value='missing')),\n",
    "        ('onehot', OneHotEncoder(handle_unknown='ignore'))\n",
    "    ]), cat_features)\n",
    "])\n",
    "\n",
    "X_train, X_test, y_train, y_test = train_test_split(X, y, test_size=0.2, random_state=42)"
   ]
  },
  {
   "cell_type": "code",
   "execution_count": 66,
   "id": "b9671ac0",
   "metadata": {},
   "outputs": [],
   "source": [
    "models = {\n",
    "    'Linear Regression': LinearRegression(),\n",
    "    'Decision Tree': DecisionTreeRegressor(random_state=42),\n",
    "    'Random Forest': RandomForestRegressor(random_state=42, n_estimators=100),\n",
    "    'Gradient Boosting': GradientBoostingRegressor(random_state=42, n_estimators=100)\n",
    "}\n",
    "results = {}"
   ]
  },
  {
   "cell_type": "code",
   "execution_count": 68,
   "id": "6cc1b868",
   "metadata": {},
   "outputs": [],
   "source": [
    "for name, model in models.items():\n",
    "    pipeline = Pipeline([\n",
    "        ('preprocessor', preprocessor),\n",
    "        ('regressor', model)\n",
    "    ])\n",
    "    pipeline.fit(X_train, y_train)\n",
    "    preds = pipeline.predict(X_test)\n",
    "    results[name] = {\n",
    "        'RMSE': mean_squared_error(y_test, preds),\n",
    "        'MAE': mean_absolute_error(y_test, preds),\n",
    "        'R2': r2_score(y_test, preds)\n",
    "    }"
   ]
  },
  {
   "cell_type": "code",
   "execution_count": 69,
   "id": "dcbcb7ee",
   "metadata": {},
   "outputs": [
    {
     "name": "stdout",
     "output_type": "stream",
     "text": [
      "Linear Regression: RMSE=1587469629853561.75, MAE=22972264.25, R2=0.769\n",
      "Decision Tree: RMSE=2222047473859969.00, MAE=19837366.78, R2=0.676\n",
      "Random Forest: RMSE=996846489456414.50, MAE=16049866.48, R2=0.855\n",
      "Gradient Boosting: RMSE=757862874814894.62, MAE=15652485.62, R2=0.890\n"
     ]
    }
   ],
   "source": [
    "for name, metrics in results.items():\n",
    "    print(f\"{name}: RMSE={metrics['RMSE']:.2f}, MAE={metrics['MAE']:.2f}, R2={metrics['R2']:.3f}\")"
   ]
  },
  {
   "cell_type": "markdown",
   "id": "2aa15fed",
   "metadata": {},
   "source": [
    "# 5. Рекомендации покупателям и продавцам"
   ]
  },
  {
   "cell_type": "markdown",
   "id": "6619b37e",
   "metadata": {},
   "source": [
    "**Для покупателей:**  \n",
    "1. Цена напрямую связана с площадью — выбирайте квартиры, которые соответствуют вашим финансовым возможностям с учётом этой зависимости. Модель показывает сильную корреляцию, значит переплата за лишние метры — частое явление.\n",
    "2. Обращайте внимание на район — из анализа и ANOVA ясно, что цена существенно варьируется в зависимости от района, так что если хотите сэкономить, рассмотрите варианты в менее дорогих районах, но с учётом инфраструктуры.\n",
    "3. Близость к метро повышает стоимость, поэтому если бюджет ограничен, ищите квартиры чуть дальше от станций.\n",
    "4. Жилой комплекс заметно влияет на цену, поэтому если модель прогнозирует высокую стоимость, проверьте наличие ЖК — это может быть причиной.\n",
    "5. Этаж практически не влияет на цену (слабая отрицательная связь), так что не стоит переплачивать за «любимые» этажи.\n",
    "6. Количество комнат влияет, но связь не линейна — больше комнат не всегда значит дороже, смотрите на соотношение цена/комнаты и площадь.\n",
    "\n",
    "**Для продавцов:**  \n",
    "1. Используйте площадь и район как ключевые аргументы для цены, так как модель и анализ показывают их главную роль.\n",
    "2. Подчеркивайте наличие жилого комплекса и близость к метро в объявлениях, т.к. они увеличивают стоимость.\n",
    "3. Не переоценивайте влияние этажа, улицы или номера дома — модель показывает, что эти факторы значительно меньше влияют на цену.\n",
    "4. Если квартира с большим количеством комнат, объясните покупателям ценность через площадь и функциональность, так как модель выявила сложную нелинейную связь.\n",
    "5. Используйте модель, чтобы прогнозировать адекватную цену и быстрее закрыть сделку, избегая завышений или недооценок."
   ]
  }
 ],
 "metadata": {
  "kernelspec": {
   "display_name": ".venv",
   "language": "python",
   "name": "python3"
  },
  "language_info": {
   "codemirror_mode": {
    "name": "ipython",
    "version": 3
   },
   "file_extension": ".py",
   "mimetype": "text/x-python",
   "name": "python",
   "nbconvert_exporter": "python",
   "pygments_lexer": "ipython3",
   "version": "3.10.6"
  }
 },
 "nbformat": 4,
 "nbformat_minor": 5
}
