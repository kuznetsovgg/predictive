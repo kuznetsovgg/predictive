{
 "cells": [
  {
   "cell_type": "markdown",
   "id": "ef4b9593",
   "metadata": {},
   "source": [
    "# Задание \n",
    "\n",
    "Задание 4. Построение предиктивной модели оценки надежности заемщика на основании бизнес-кейса крупного коммерческого банка.\n",
    "Датасет для решения задачи  https://disk.yandex.ru/d/Em-zX3D2uZ4Nlg\n",
    "1. Провести разведочный анализ данных по данным скоринга.\n",
    "2. Определить достаточность данных для определения кредитного скоринга, социального скоринга.\n",
    "Социальный скоринг — это вид скоринга, который оценивает клиента по его социальным характеристикам и прогнозирует его поведение с помощью анализа его присутствия в социальных сетях. Используя такие данные, как пол, возраст, место проживания, должность, длительность работы в одном месте и т.д"
   ]
  },
  {
   "cell_type": "markdown",
   "id": "7bb0c643",
   "metadata": {},
   "source": [
    "### Я тестировал, сохраняя совсем немного .pq файлов, потому что у меня все зависает T_T"
   ]
  },
  {
   "cell_type": "markdown",
   "id": "b1ecff33",
   "metadata": {},
   "source": [
    "# Импорт"
   ]
  },
  {
   "cell_type": "code",
   "execution_count": 6,
   "id": "212a2bfc",
   "metadata": {},
   "outputs": [
    {
     "name": "stdout",
     "output_type": "stream",
     "text": [
      "Всего файлов: 3\n"
     ]
    }
   ],
   "source": [
    "import os\n",
    "import pandas as pd\n",
    "import re\n",
    "\n",
    "train_folder = '../task4_data/train_data'\n",
    "\n",
    "files = [f for f in os.listdir(train_folder) if f.endswith('.pq')]\n",
    "\n",
    "def extract_number(filename):\n",
    "    match = re.search(r'(\\d+)', filename)\n",
    "    return int(match.group(1)) if match else -1\n",
    "\n",
    "files_sorted = sorted(files, key=extract_number)\n",
    "\n",
    "print(f\"Всего файлов: {len(files_sorted)}\")"
   ]
  },
  {
   "cell_type": "code",
   "execution_count": 7,
   "id": "6f849c80",
   "metadata": {},
   "outputs": [
    {
     "name": "stdout",
     "output_type": "stream",
     "text": [
      "Читаю файл 1: train_data_0.pq\n",
      "Размер файла: (1974724, 61)\n",
      "Читаю файл 2: train_data_1.pq\n",
      "Размер файла: (2107305, 61)\n",
      "Читаю файл 3: train_data_2.pq\n",
      "Размер файла: (2080508, 61)\n"
     ]
    }
   ],
   "source": [
    "df_list = []\n",
    "for i in range(len(files_sorted)):\n",
    "    path = os.path.join(train_folder, files_sorted[i])\n",
    "    print(f\"Читаю файл {i+1}: {files_sorted[i]}\")\n",
    "    df_part = pd.read_parquet(path, engine='fastparquet')\n",
    "    print(f\"Размер файла: {df_part.shape}\")\n",
    "    df_list.append(df_part)"
   ]
  },
  {
   "cell_type": "code",
   "execution_count": 8,
   "id": "d4adc48d",
   "metadata": {},
   "outputs": [
    {
     "name": "stdout",
     "output_type": "stream",
     "text": [
      "Размер объединённого DataFrame: (6162537, 61)\n"
     ]
    }
   ],
   "source": [
    "df_train = pd.concat(df_list, ignore_index=True)\n",
    "print(f\"Размер объединённого DataFrame: {df_train.shape}\")"
   ]
  },
  {
   "cell_type": "code",
   "execution_count": 10,
   "id": "644e9d76",
   "metadata": {},
   "outputs": [
    {
     "name": "stdout",
     "output_type": "stream",
     "text": [
      "Размер меток: (3000000, 2)\n"
     ]
    }
   ],
   "source": [
    "train_target = pd.read_csv('../task4_data/train_target.csv')\n",
    "print(f\"Размер меток: {train_target.shape}\")"
   ]
  },
  {
   "cell_type": "markdown",
   "id": "1f3019df",
   "metadata": {},
   "source": [
    "# 1. Разведочный анализ"
   ]
  },
  {
   "cell_type": "markdown",
   "id": "1203e36e",
   "metadata": {},
   "source": [
    "# 2. Достаточность данных"
   ]
  }
 ],
 "metadata": {
  "kernelspec": {
   "display_name": ".venv",
   "language": "python",
   "name": "python3"
  },
  "language_info": {
   "codemirror_mode": {
    "name": "ipython",
    "version": 3
   },
   "file_extension": ".py",
   "mimetype": "text/x-python",
   "name": "python",
   "nbconvert_exporter": "python",
   "pygments_lexer": "ipython3",
   "version": "3.10.6"
  }
 },
 "nbformat": 4,
 "nbformat_minor": 5
}
